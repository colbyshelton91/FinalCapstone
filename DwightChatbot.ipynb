{
 "cells": [
  {
   "cell_type": "markdown",
   "metadata": {},
   "source": [
    "# Generating Dwight Shrute lines using NLP & Deep Learning\n",
    "(A first step in the development of a Twitter chatbot that responds to tweets like Dwight Shrute from NBC's hit series \"The Office\")\n",
    "\n",
    "- By: Colby Shelton"
   ]
  },
  {
   "cell_type": "markdown",
   "metadata": {},
   "source": [
    "# Overview\n",
    "\n",
    "- Explore and clean our data.\n",
    "- Create a Multi-Class Text Classifier using sklearn to predict character quote. The goal here is to measure if Dwight's lines are unique enough to predict in a set of 4 other characters.\n",
    "- Create Neural Language Text Generation Model trained on Dwight's lines.\n",
    "- Run the generated lines though the Text Classifier and observe if the model predicts the line to be Dwight.\n",
    "- Conclusion\n",
    "- Future steps"
   ]
  },
  {
   "cell_type": "code",
   "execution_count": 48,
   "metadata": {},
   "outputs": [],
   "source": [
    "%matplotlib inline\n",
    "import numpy as np\n",
    "import pandas as pd\n",
    "import scipy\n",
    "import sklearn\n",
    "import matplotlib.pyplot as plt\n",
    "import seaborn as sns"
   ]
  },
  {
   "cell_type": "markdown",
   "metadata": {},
   "source": [
    "# Data Cleaning / Exploration"
   ]
  },
  {
   "cell_type": "code",
   "execution_count": 49,
   "metadata": {},
   "outputs": [
    {
     "data": {
      "text/plain": [
       "(59909, 7)"
      ]
     },
     "execution_count": 49,
     "metadata": {},
     "output_type": "execute_result"
    }
   ],
   "source": [
    "# Read in dataframe\n",
    "df = pd.read_csv('/Users/colby/Desktop/Thinkful/the-office-lines - scripts.csv', encoding=\"utf-8\", index_col=False)\n",
    "\n",
    "df.shape"
   ]
  },
  {
   "cell_type": "code",
   "execution_count": 50,
   "metadata": {},
   "outputs": [
    {
     "data": {
      "text/html": [
       "<div>\n",
       "<style scoped>\n",
       "    .dataframe tbody tr th:only-of-type {\n",
       "        vertical-align: middle;\n",
       "    }\n",
       "\n",
       "    .dataframe tbody tr th {\n",
       "        vertical-align: top;\n",
       "    }\n",
       "\n",
       "    .dataframe thead th {\n",
       "        text-align: right;\n",
       "    }\n",
       "</style>\n",
       "<table border=\"1\" class=\"dataframe\">\n",
       "  <thead>\n",
       "    <tr style=\"text-align: right;\">\n",
       "      <th></th>\n",
       "      <th>id</th>\n",
       "      <th>season</th>\n",
       "      <th>episode</th>\n",
       "      <th>scene</th>\n",
       "      <th>line_text</th>\n",
       "      <th>speaker</th>\n",
       "      <th>deleted</th>\n",
       "    </tr>\n",
       "  </thead>\n",
       "  <tbody>\n",
       "    <tr>\n",
       "      <th>0</th>\n",
       "      <td>1</td>\n",
       "      <td>1</td>\n",
       "      <td>1</td>\n",
       "      <td>1</td>\n",
       "      <td>All right Jim. Your quarterlies look very good. How are things at the library?</td>\n",
       "      <td>Michael</td>\n",
       "      <td>False</td>\n",
       "    </tr>\n",
       "    <tr>\n",
       "      <th>1</th>\n",
       "      <td>2</td>\n",
       "      <td>1</td>\n",
       "      <td>1</td>\n",
       "      <td>1</td>\n",
       "      <td>Oh, I told you. I couldn't close it. So...</td>\n",
       "      <td>Jim</td>\n",
       "      <td>False</td>\n",
       "    </tr>\n",
       "    <tr>\n",
       "      <th>2</th>\n",
       "      <td>3</td>\n",
       "      <td>1</td>\n",
       "      <td>1</td>\n",
       "      <td>1</td>\n",
       "      <td>So you've come to the master for guidance? Is this what you're saying, grasshopper?</td>\n",
       "      <td>Michael</td>\n",
       "      <td>False</td>\n",
       "    </tr>\n",
       "    <tr>\n",
       "      <th>3</th>\n",
       "      <td>4</td>\n",
       "      <td>1</td>\n",
       "      <td>1</td>\n",
       "      <td>1</td>\n",
       "      <td>Actually, you called me in here, but yeah.</td>\n",
       "      <td>Jim</td>\n",
       "      <td>False</td>\n",
       "    </tr>\n",
       "    <tr>\n",
       "      <th>4</th>\n",
       "      <td>5</td>\n",
       "      <td>1</td>\n",
       "      <td>1</td>\n",
       "      <td>1</td>\n",
       "      <td>All right. Well, let me show you how it's done.</td>\n",
       "      <td>Michael</td>\n",
       "      <td>False</td>\n",
       "    </tr>\n",
       "  </tbody>\n",
       "</table>\n",
       "</div>"
      ],
      "text/plain": [
       "   id  season  episode  scene  \\\n",
       "0   1       1        1      1   \n",
       "1   2       1        1      1   \n",
       "2   3       1        1      1   \n",
       "3   4       1        1      1   \n",
       "4   5       1        1      1   \n",
       "\n",
       "                                                                             line_text  \\\n",
       "0       All right Jim. Your quarterlies look very good. How are things at the library?   \n",
       "1                                           Oh, I told you. I couldn't close it. So...   \n",
       "2  So you've come to the master for guidance? Is this what you're saying, grasshopper?   \n",
       "3                                           Actually, you called me in here, but yeah.   \n",
       "4                                      All right. Well, let me show you how it's done.   \n",
       "\n",
       "   speaker  deleted  \n",
       "0  Michael    False  \n",
       "1      Jim    False  \n",
       "2  Michael    False  \n",
       "3      Jim    False  \n",
       "4  Michael    False  "
      ]
     },
     "execution_count": 50,
     "metadata": {},
     "output_type": "execute_result"
    }
   ],
   "source": [
    "df.head()"
   ]
  },
  {
   "cell_type": "code",
   "execution_count": 51,
   "metadata": {},
   "outputs": [],
   "source": [
    "# Convert line to lowercase\n",
    "df['line_text'] = df['line_text'].str.lower()\n",
    "\n",
    "# Drop punctuation from line_text\n",
    "df['line_text'] = df['line_text'].str.replace(\"[\\(\\[].*?[\\)\\]]\", \"\",regex=True)"
   ]
  },
  {
   "cell_type": "code",
   "execution_count": 52,
   "metadata": {},
   "outputs": [],
   "source": [
    "# Delete all columns minus line_text and speaker\n",
    "df.drop(['id', 'season', 'episode', 'scene', 'deleted'], axis = 1, inplace = True)"
   ]
  },
  {
   "cell_type": "markdown",
   "metadata": {},
   "source": [
    "# Create a text file of Dwight's lines only to use for text generation model"
   ]
  },
  {
   "cell_type": "code",
   "execution_count": 53,
   "metadata": {},
   "outputs": [],
   "source": [
    "# Create a df that contain Dwight's line only\n",
    "# This will be used to sample for testing on the Multi_class Test Classifier,\n",
    "# then to train the Neural Language Text Generation Model after conversion to a .txt file.\n",
    "dwight_only_df = df[df['speaker'] == 'Dwight']"
   ]
  },
  {
   "cell_type": "code",
   "execution_count": 54,
   "metadata": {},
   "outputs": [
    {
     "name": "stderr",
     "output_type": "stream",
     "text": [
      "/Library/Frameworks/Python.framework/Versions/3.7/lib/python3.7/site-packages/pandas/core/frame.py:3940: SettingWithCopyWarning: \n",
      "A value is trying to be set on a copy of a slice from a DataFrame\n",
      "\n",
      "See the caveats in the documentation: http://pandas.pydata.org/pandas-docs/stable/indexing.html#indexing-view-versus-copy\n",
      "  errors=errors)\n"
     ]
    }
   ],
   "source": [
    "# Drop 'speaker column'\n",
    "dwight_only_df.drop(['speaker'], axis = 1, inplace = True)"
   ]
  },
  {
   "cell_type": "code",
   "execution_count": 55,
   "metadata": {},
   "outputs": [
    {
     "name": "stderr",
     "output_type": "stream",
     "text": [
      "/Library/Frameworks/Python.framework/Versions/3.7/lib/python3.7/site-packages/ipykernel_launcher.py:2: SettingWithCopyWarning: \n",
      "A value is trying to be set on a copy of a slice from a DataFrame.\n",
      "Try using .loc[row_indexer,col_indexer] = value instead\n",
      "\n",
      "See the caveats in the documentation: http://pandas.pydata.org/pandas-docs/stable/indexing.html#indexing-view-versus-copy\n",
      "  \n"
     ]
    }
   ],
   "source": [
    "# Create new variable as the number of words in line_text\n",
    "dwight_only_df['line_total_words'] = [len(x.split()) for x in dwight_only_df['line_text'].tolist()]"
   ]
  },
  {
   "cell_type": "code",
   "execution_count": 56,
   "metadata": {},
   "outputs": [],
   "source": [
    "# Delete line with less than 4 words\n",
    "dwight_only_df = dwight_only_df[ (dwight_only_df['line_total_words'] >= 4) ]"
   ]
  },
  {
   "cell_type": "code",
   "execution_count": 57,
   "metadata": {},
   "outputs": [],
   "source": [
    "# Drop 'speaker column'\n",
    "dwight_only_df.drop(['line_total_words'], axis = 1, inplace = True)\n",
    "\n",
    "# Convert to .txt file\n",
    "#np.savetxt(r'dwight_only.txt', dwight_only_df.values, fmt='%s', delimiter=\"\\t\")"
   ]
  },
  {
   "cell_type": "markdown",
   "metadata": {},
   "source": [
    "# Create new data frame of top 5 characters by line including Dwight to test if Dwight's lines are predictably different"
   ]
  },
  {
   "cell_type": "code",
   "execution_count": 58,
   "metadata": {},
   "outputs": [
    {
     "name": "stdout",
     "output_type": "stream",
     "text": [
      "Michael                              12137\n",
      "Dwight                                7529\n",
      "Jim                                   6814\n",
      "Pam                                   5375\n",
      "Andy                                  3968\n",
      "Kevin                                 1708\n",
      "Angela                                1695\n",
      "Oscar                                 1490\n",
      "Erin                                  1469\n",
      "Ryan                                  1379\n",
      "Darryl                                1243\n",
      "Phyllis                               1071\n",
      "Kelly                                  956\n",
      "Jan                                    949\n",
      "Toby                                   936\n",
      "Stanley                                761\n",
      "Meredith                               645\n",
      "Holly                                  608\n",
      "Nellie                                 529\n",
      "Creed                                  456\n",
      "Gabe                                   436\n",
      "Robert                                 430\n",
      "David                                  382\n",
      "Karen                                  341\n",
      "Clark                                  260\n",
      "Roy                                    255\n",
      "Charles                                221\n",
      "Pete                                   213\n",
      "Jo                                     194\n",
      "Deangelo                               171\n",
      "                                     ...  \n",
      "Bruce                                    1\n",
      "New Instant Message                      1\n",
      "Emergency Operator                       1\n",
      "Bob Vance, Vance Refrigeration           1\n",
      "Hooter's Girls                           1\n",
      "Warehouse Michael                        1\n",
      "Man 1                                    1\n",
      "Mr. Kapoor                               1\n",
      "Oscar and Stanley                        1\n",
      "Guy at bar                               1\n",
      "Credit card rep                          1\n",
      "Darryl and Angela                        1\n",
      "Dight                                    1\n",
      "Cameraman                                1\n",
      "Maguire                                  1\n",
      "Andy, Creed, Kevin, Kelly, Darryl        1\n",
      "Automated phone voice                    1\n",
      "Angela and Kelly                         1\n",
      "Guys in breakroom                        1\n",
      "[repeats]\\nAndy: Fail                    1\n",
      "Party Guest                              1\n",
      "Production Assistant                     1\n",
      "sAndy                                    1\n",
      "Neighbor                                 1\n",
      "Dance Teacher                            1\n",
      "Entire office                            1\n",
      "Darryl and Andy                          1\n",
      "College Student                          1\n",
      "Stewardess                               1\n",
      "Salesmen                                 1\n",
      "Name: speaker, Length: 797, dtype: int64\n"
     ]
    }
   ],
   "source": [
    "# Check line count per character.\n",
    "print(df['speaker'].value_counts())"
   ]
  },
  {
   "cell_type": "code",
   "execution_count": 59,
   "metadata": {},
   "outputs": [],
   "source": [
    "# Limit to top five characters based on line count including Dwight\n",
    "\n",
    "# Get the count of each value\n",
    "value_counts = df['speaker'].value_counts()\n",
    "\n",
    "# Select the values where the count is less than 1379 (Limit to top five charaters based on line count)\n",
    "to_remove = value_counts[value_counts < 3968].index\n",
    "\n",
    "# Keep rows where the column is not in to_remove\n",
    "df = df[~df.speaker.isin(to_remove)]"
   ]
  },
  {
   "cell_type": "code",
   "execution_count": 60,
   "metadata": {},
   "outputs": [],
   "source": [
    "# Create new variable as the number of words in line_text\n",
    "df['line_total_words'] = [len(x.split()) for x in df['line_text'].tolist()]"
   ]
  },
  {
   "cell_type": "code",
   "execution_count": 61,
   "metadata": {},
   "outputs": [],
   "source": [
    "# Delete line with less than 4 words\n",
    "df = df[ (df['line_total_words'] >= 4) ]"
   ]
  },
  {
   "cell_type": "code",
   "execution_count": 62,
   "metadata": {},
   "outputs": [],
   "source": [
    "# Drop 'line_total_words' column\n",
    "df.drop(['line_total_words'], axis = 1, inplace = True)"
   ]
  },
  {
   "cell_type": "code",
   "execution_count": 63,
   "metadata": {},
   "outputs": [
    {
     "data": {
      "text/html": [
       "<div>\n",
       "<style scoped>\n",
       "    .dataframe tbody tr th:only-of-type {\n",
       "        vertical-align: middle;\n",
       "    }\n",
       "\n",
       "    .dataframe tbody tr th {\n",
       "        vertical-align: top;\n",
       "    }\n",
       "\n",
       "    .dataframe thead th {\n",
       "        text-align: right;\n",
       "    }\n",
       "</style>\n",
       "<table border=\"1\" class=\"dataframe\">\n",
       "  <thead>\n",
       "    <tr style=\"text-align: right;\">\n",
       "      <th></th>\n",
       "      <th>line_text</th>\n",
       "      <th>speaker</th>\n",
       "    </tr>\n",
       "  </thead>\n",
       "  <tbody>\n",
       "    <tr>\n",
       "      <th>0</th>\n",
       "      <td>all right jim. your quarterlies look very good. how are things at the library?</td>\n",
       "      <td>Michael</td>\n",
       "    </tr>\n",
       "    <tr>\n",
       "      <th>1</th>\n",
       "      <td>oh, i told you. i couldn't close it. so...</td>\n",
       "      <td>Jim</td>\n",
       "    </tr>\n",
       "    <tr>\n",
       "      <th>2</th>\n",
       "      <td>so you've come to the master for guidance? is this what you're saying, grasshopper?</td>\n",
       "      <td>Michael</td>\n",
       "    </tr>\n",
       "    <tr>\n",
       "      <th>3</th>\n",
       "      <td>actually, you called me in here, but yeah.</td>\n",
       "      <td>Jim</td>\n",
       "    </tr>\n",
       "    <tr>\n",
       "      <th>4</th>\n",
       "      <td>all right. well, let me show you how it's done.</td>\n",
       "      <td>Michael</td>\n",
       "    </tr>\n",
       "  </tbody>\n",
       "</table>\n",
       "</div>"
      ],
      "text/plain": [
       "                                                                             line_text  \\\n",
       "0       all right jim. your quarterlies look very good. how are things at the library?   \n",
       "1                                           oh, i told you. i couldn't close it. so...   \n",
       "2  so you've come to the master for guidance? is this what you're saying, grasshopper?   \n",
       "3                                           actually, you called me in here, but yeah.   \n",
       "4                                      all right. well, let me show you how it's done.   \n",
       "\n",
       "   speaker  \n",
       "0  Michael  \n",
       "1      Jim  \n",
       "2  Michael  \n",
       "3      Jim  \n",
       "4  Michael  "
      ]
     },
     "execution_count": 63,
     "metadata": {},
     "output_type": "execute_result"
    }
   ],
   "source": [
    "df.head()"
   ]
  },
  {
   "cell_type": "markdown",
   "metadata": {},
   "source": [
    "# Multi-Class Text Classifier\n",
    "\n",
    "This model will be used for two purposes:\n",
    "\n",
    "- Evaluate if Dwight's lines unique enough to predict.\n",
    "- After creattion of text generator, the lines will be tested on this model to see if they are predicted as being Dwight's lines."
   ]
  },
  {
   "cell_type": "code",
   "execution_count": 64,
   "metadata": {},
   "outputs": [
    {
     "name": "stdout",
     "output_type": "stream",
     "text": [
      "Chosen samples of dataset:\n"
     ]
    },
    {
     "data": {
      "text/html": [
       "<div>\n",
       "<style scoped>\n",
       "    .dataframe tbody tr th:only-of-type {\n",
       "        vertical-align: middle;\n",
       "    }\n",
       "\n",
       "    .dataframe tbody tr th {\n",
       "        vertical-align: top;\n",
       "    }\n",
       "\n",
       "    .dataframe thead th {\n",
       "        text-align: right;\n",
       "    }\n",
       "</style>\n",
       "<table border=\"1\" class=\"dataframe\">\n",
       "  <thead>\n",
       "    <tr style=\"text-align: right;\">\n",
       "      <th></th>\n",
       "      <th>line_text</th>\n",
       "      <th>speaker</th>\n",
       "    </tr>\n",
       "  </thead>\n",
       "  <tbody>\n",
       "    <tr>\n",
       "      <th>0</th>\n",
       "      <td>downsizing? i have no problem with that. i have been recommending downsizing since i first got here. i even brought it up in my interview. i say, bring it on.</td>\n",
       "      <td>Dwight</td>\n",
       "    </tr>\n",
       "    <tr>\n",
       "      <th>1</th>\n",
       "      <td>i knew it! more trunk space. or should i say, corpse space.</td>\n",
       "      <td>Dwight</td>\n",
       "    </tr>\n",
       "    <tr>\n",
       "      <th>2</th>\n",
       "      <td>a ceremonial bridal kidnapping. he will take the bride and hide her at a local pub and when i find the place, i have to buy everyone drinks. ah, all right! oh mose.</td>\n",
       "      <td>Dwight</td>\n",
       "    </tr>\n",
       "    <tr>\n",
       "      <th>3</th>\n",
       "      <td>no woman would ever want a man who doesn't know what an auger is.</td>\n",
       "      <td>Dwight</td>\n",
       "    </tr>\n",
       "    <tr>\n",
       "      <th>4</th>\n",
       "      <td>ooh does edgar allan poe know about that one? so sinister! that wouldn't annoy a person at all! where do you come up with this stuff?</td>\n",
       "      <td>Dwight</td>\n",
       "    </tr>\n",
       "  </tbody>\n",
       "</table>\n",
       "</div>"
      ],
      "text/plain": [
       "                                                                                                                                                              line_text  \\\n",
       "0        downsizing? i have no problem with that. i have been recommending downsizing since i first got here. i even brought it up in my interview. i say, bring it on.   \n",
       "1                                                                                                           i knew it! more trunk space. or should i say, corpse space.   \n",
       "2  a ceremonial bridal kidnapping. he will take the bride and hide her at a local pub and when i find the place, i have to buy everyone drinks. ah, all right! oh mose.   \n",
       "3                                                                                                     no woman would ever want a man who doesn't know what an auger is.   \n",
       "4                                 ooh does edgar allan poe know about that one? so sinister! that wouldn't annoy a person at all! where do you come up with this stuff?   \n",
       "\n",
       "  speaker  \n",
       "0  Dwight  \n",
       "1  Dwight  \n",
       "2  Dwight  \n",
       "3  Dwight  \n",
       "4  Dwight  "
      ]
     },
     "metadata": {},
     "output_type": "display_data"
    }
   ],
   "source": [
    "# Select five indices of your choice you wish to sample from the dataset to test\n",
    "# on the Multi_class Test Classifier\n",
    "indices = [95,32297,59618,57863,43454]\n",
    "\n",
    "# Create a DataFrame of the chosen samples\n",
    "samples = pd.DataFrame(df.loc[indices], columns = df.keys()).reset_index(drop = True)\n",
    "print(\"Chosen samples of dataset:\")\n",
    "display(samples)"
   ]
  },
  {
   "cell_type": "code",
   "execution_count": 65,
   "metadata": {},
   "outputs": [
    {
     "data": {
      "image/png": "[encoded data removed]",
      "text/plain": [
       "<Figure size 576x432 with 1 Axes>"
      ]
     },
     "metadata": {
      "needs_background": "light"
     },
     "output_type": "display_data"
    }
   ],
   "source": [
    "# Plot distribution of speakers\n",
    "import matplotlib.pyplot as plt\n",
    "fig = plt.figure(figsize=(8,6))\n",
    "df.groupby('speaker').line_text.count().plot.bar(ylim=0)\n",
    "plt.show()"
   ]
  },
  {
   "cell_type": "markdown",
   "metadata": {},
   "source": [
    "The 'Michael' class is obviously the vast majority. We'll balance that out in a few steps to level the playing field."
   ]
  },
  {
   "cell_type": "markdown",
   "metadata": {},
   "source": [
    "## Text Representation using TF-IDF\n",
    "\n",
    "The classifiers and learning algorithms can not directly process the text documents in their original form, as most of them expect numerical feature vectors with a fixed size rather than the raw text documents with variable length. Therefore, during the preprocessing step, the texts are converted to a more manageable representation.\n",
    "\n",
    "One common approach for extracting features from text is to use the bag of words model: a model where for each document, a line_text in our case, the presence (and often the frequency) of words is taken into consideration, but the order in which they occur is ignored.\n",
    "\n",
    "Specifically, for each term in our dataset, we will calculate a measure called Term Frequency, Inverse Document Frequency, abbreviated to tf-idf."
   ]
  },
  {
   "cell_type": "code",
   "execution_count": 66,
   "metadata": {},
   "outputs": [],
   "source": [
    "# Create new variable speaker_id for numerical representation of speaker\n",
    "df['speaker_id'] = df['speaker'].factorize()[0]\n",
    "\n",
    "from io import StringIO\n",
    "\n",
    "# Create a few dictionaries for future use\n",
    "speaker_id_df = df[['speaker', 'speaker_id']].drop_duplicates().sort_values('speaker_id')\n",
    "speaker_to_id = dict(speaker_id_df.values)\n",
    "id_to_speaker = dict(speaker_id_df[['speaker_id', 'speaker']].values)"
   ]
  },
  {
   "cell_type": "code",
   "execution_count": 69,
   "metadata": {},
   "outputs": [],
   "source": [
    "# Let't random sample and drop %40 of Michael's lines\n",
    "df = df.drop(df.query('speaker_id == 0').sample(frac=.4).index)"
   ]
  },
  {
   "cell_type": "code",
   "execution_count": 70,
   "metadata": {},
   "outputs": [
    {
     "data": {
      "image/png": "[encoded data removed]",
      "text/plain": [
       "<Figure size 576x432 with 1 Axes>"
      ]
     },
     "metadata": {
      "needs_background": "light"
     },
     "output_type": "display_data"
    }
   ],
   "source": [
    "# Plot distribution of speakers after random sample and removal of %40 of Michael's lines\n",
    "import matplotlib.pyplot as plt\n",
    "fig = plt.figure(figsize=(8,6))\n",
    "df.groupby('speaker').line_text.count().plot.bar(ylim=0)\n",
    "plt.show()"
   ]
  },
  {
   "cell_type": "code",
   "execution_count": 71,
   "metadata": {},
   "outputs": [
    {
     "data": {
      "text/plain": [
       "(21993, 4931)"
      ]
     },
     "execution_count": 71,
     "metadata": {},
     "output_type": "execute_result"
    }
   ],
   "source": [
    "# sublinear_df is set to True to use a logarithmic form for frequency.\n",
    "# min_df is the minimum numbers of documents a word must be present in to be kept.\n",
    "# norm is set to l2, to ensure all our feature vectors have a euclidian norm of 1.\n",
    "# ngram_range is set to (1, 2) to indicate that we want to consider both unigrams and bigrams.\n",
    "# stop_words is set to \"english\" to remove all common pronouns (\"a\", \"the\", ...) to reduce the number of noisy features.\n",
    "\n",
    "from sklearn.feature_extraction.text import TfidfVectorizer\n",
    "\n",
    "tfidf = TfidfVectorizer(sublinear_tf=True,\n",
    "                        min_df=5,\n",
    "                        norm='l2',\n",
    "                        encoding='latin-1',\n",
    "                        ngram_range=(1, 2),\n",
    "                        stop_words='english'\n",
    "                       )\n",
    "\n",
    "features = tfidf.fit_transform(df.line_text).toarray()\n",
    "labels = df.speaker_id\n",
    "features.shape"
   ]
  },
  {
   "cell_type": "code",
   "execution_count": 72,
   "metadata": {},
   "outputs": [
    {
     "name": "stdout",
     "output_type": "stream",
     "text": [
      "# 'Andy':\n",
      "  . Most correlated unigrams:\n",
      "       . erin\n",
      "       . tuna\n",
      "  . Most correlated bigrams:\n",
      "       . big tuna\n",
      "       . nard dog\n",
      "# 'Dwight':\n",
      "  . Most correlated unigrams:\n",
      "       . um\n",
      "       . schrute\n",
      "  . Most correlated bigrams:\n",
      "       . ve got\n",
      "       . dwight schrute\n",
      "# 'Jim':\n",
      "  . Most correlated unigrams:\n",
      "       . nope\n",
      "       . definitely\n",
      "  . Most correlated bigrams:\n",
      "       . just gonna\n",
      "       . really sure\n",
      "# 'Michael':\n",
      "  . Most correlated unigrams:\n",
      "       . michael\n",
      "       . everybody\n",
      "  . Most correlated bigrams:\n",
      "       . okay right\n",
      "       . know know\n",
      "# 'Pam':\n",
      "  . Most correlated unigrams:\n",
      "       . um\n",
      "       . michael\n",
      "  . Most correlated bigrams:\n",
      "       . hey michael\n",
      "       . mifflin pam\n"
     ]
    }
   ],
   "source": [
    "# Find the terms that are the most correlated with each of the speakers:\n",
    "from sklearn.feature_selection import chi2\n",
    "import numpy as np\n",
    "\n",
    "N = 2\n",
    "for speaker, speaker_id in sorted(speaker_to_id.items()):\n",
    "    features_chi2 = chi2(features, labels == speaker_id)\n",
    "    indices = np.argsort(features_chi2[0])\n",
    "    feature_names = np.array(tfidf.get_feature_names())[indices]\n",
    "    unigrams = [v for v in feature_names if len(v.split(' ')) == 1]\n",
    "    bigrams = [v for v in feature_names if len(v.split(' ')) == 2]\n",
    "    print(\"# '{}':\".format(speaker))\n",
    "    print(\"  . Most correlated unigrams:\\n       . {}\".format('\\n       . '.join(unigrams[-N:])))\n",
    "    print(\"  . Most correlated bigrams:\\n       . {}\".format('\\n       . '.join(bigrams[-N:])))"
   ]
  },
  {
   "cell_type": "markdown",
   "metadata": {},
   "source": [
    "# Multi-Class Classifier: Features and Design\n",
    "\n",
    "To train supervised classifiers, we first transformed the “line_text” into a vector of numbers. We explored vector representations such as TF-IDF weighted vectors.\n",
    "\n",
    "After having this vector representations of the text we can train supervised classifiers to train unseen “line_text” samples and predict the “speaker\".\n",
    "\n",
    "After all the above data transformation, now that we have all the features and labels, it is time to train the classifiers. There are a number of algorithms we can use for this type of problem."
   ]
  },
  {
   "cell_type": "code",
   "execution_count": 73,
   "metadata": {},
   "outputs": [],
   "source": [
    "from sklearn.model_selection import train_test_split\n",
    "from sklearn.feature_extraction.text import CountVectorizer\n",
    "from sklearn.feature_extraction.text import TfidfTransformer\n",
    "from sklearn.naive_bayes import MultinomialNB\n",
    "\n",
    "X_train, X_test, y_train, y_test = train_test_split(df['line_text'], df['speaker'], random_state = 0)\n",
    "count_vect = CountVectorizer()\n",
    "X_train_counts = count_vect.fit_transform(X_train)\n",
    "tfidf_transformer = TfidfTransformer()\n",
    "X_train_tfidf = tfidf_transformer.fit_transform(X_train_counts)\n",
    "\n",
    "clf = MultinomialNB().fit(X_train_tfidf, y_train)"
   ]
  },
  {
   "cell_type": "code",
   "execution_count": 74,
   "metadata": {},
   "outputs": [
    {
     "name": "stdout",
     "output_type": "stream",
     "text": [
      "['Dwight']\n"
     ]
    }
   ],
   "source": [
    "# Let's do a quick prediction on a line I made up. Something that sounds like Dwight.\n",
    "print(clf.predict(count_vect.transform([\"I am a beet farmer and I want to be manager.\"])))"
   ]
  },
  {
   "cell_type": "markdown",
   "metadata": {},
   "source": [
    "## Model Selection\n",
    "\n",
    "We are now ready to experiment with multiple machine learning models.\n",
    "\n",
    "We will test the following four models:\n",
    "- Logistic Regression\n",
    "- (Multinomial) Naive Bayes\n",
    "- Linear Support Vector Machine\n",
    "- Random Forest"
   ]
  },
  {
   "cell_type": "code",
   "execution_count": 85,
   "metadata": {},
   "outputs": [
    {
     "name": "stderr",
     "output_type": "stream",
     "text": [
      "/Library/Frameworks/Python.framework/Versions/3.7/lib/python3.7/site-packages/sklearn/linear_model/logistic.py:432: FutureWarning: Default solver will be changed to 'lbfgs' in 0.22. Specify a solver to silence this warning.\n",
      "  FutureWarning)\n",
      "/Library/Frameworks/Python.framework/Versions/3.7/lib/python3.7/site-packages/sklearn/linear_model/logistic.py:469: FutureWarning: Default multi_class will be changed to 'auto' in 0.22. Specify the multi_class option to silence this warning.\n",
      "  \"this warning.\", FutureWarning)\n",
      "/Library/Frameworks/Python.framework/Versions/3.7/lib/python3.7/site-packages/sklearn/linear_model/logistic.py:432: FutureWarning: Default solver will be changed to 'lbfgs' in 0.22. Specify a solver to silence this warning.\n",
      "  FutureWarning)\n",
      "/Library/Frameworks/Python.framework/Versions/3.7/lib/python3.7/site-packages/sklearn/linear_model/logistic.py:469: FutureWarning: Default multi_class will be changed to 'auto' in 0.22. Specify the multi_class option to silence this warning.\n",
      "  \"this warning.\", FutureWarning)\n",
      "/Library/Frameworks/Python.framework/Versions/3.7/lib/python3.7/site-packages/sklearn/linear_model/logistic.py:432: FutureWarning: Default solver will be changed to 'lbfgs' in 0.22. Specify a solver to silence this warning.\n",
      "  FutureWarning)\n",
      "/Library/Frameworks/Python.framework/Versions/3.7/lib/python3.7/site-packages/sklearn/linear_model/logistic.py:469: FutureWarning: Default multi_class will be changed to 'auto' in 0.22. Specify the multi_class option to silence this warning.\n",
      "  \"this warning.\", FutureWarning)\n",
      "/Library/Frameworks/Python.framework/Versions/3.7/lib/python3.7/site-packages/sklearn/linear_model/logistic.py:432: FutureWarning: Default solver will be changed to 'lbfgs' in 0.22. Specify a solver to silence this warning.\n",
      "  FutureWarning)\n",
      "/Library/Frameworks/Python.framework/Versions/3.7/lib/python3.7/site-packages/sklearn/linear_model/logistic.py:469: FutureWarning: Default multi_class will be changed to 'auto' in 0.22. Specify the multi_class option to silence this warning.\n",
      "  \"this warning.\", FutureWarning)\n",
      "/Library/Frameworks/Python.framework/Versions/3.7/lib/python3.7/site-packages/sklearn/linear_model/logistic.py:432: FutureWarning: Default solver will be changed to 'lbfgs' in 0.22. Specify a solver to silence this warning.\n",
      "  FutureWarning)\n",
      "/Library/Frameworks/Python.framework/Versions/3.7/lib/python3.7/site-packages/sklearn/linear_model/logistic.py:469: FutureWarning: Default multi_class will be changed to 'auto' in 0.22. Specify the multi_class option to silence this warning.\n",
      "  \"this warning.\", FutureWarning)\n",
      "/Library/Frameworks/Python.framework/Versions/3.7/lib/python3.7/site-packages/sklearn/linear_model/logistic.py:432: FutureWarning: Default solver will be changed to 'lbfgs' in 0.22. Specify a solver to silence this warning.\n",
      "  FutureWarning)\n",
      "/Library/Frameworks/Python.framework/Versions/3.7/lib/python3.7/site-packages/sklearn/linear_model/logistic.py:469: FutureWarning: Default multi_class will be changed to 'auto' in 0.22. Specify the multi_class option to silence this warning.\n",
      "  \"this warning.\", FutureWarning)\n",
      "/Library/Frameworks/Python.framework/Versions/3.7/lib/python3.7/site-packages/sklearn/linear_model/logistic.py:432: FutureWarning: Default solver will be changed to 'lbfgs' in 0.22. Specify a solver to silence this warning.\n",
      "  FutureWarning)\n",
      "/Library/Frameworks/Python.framework/Versions/3.7/lib/python3.7/site-packages/sklearn/linear_model/logistic.py:469: FutureWarning: Default multi_class will be changed to 'auto' in 0.22. Specify the multi_class option to silence this warning.\n",
      "  \"this warning.\", FutureWarning)\n",
      "/Library/Frameworks/Python.framework/Versions/3.7/lib/python3.7/site-packages/sklearn/linear_model/logistic.py:432: FutureWarning: Default solver will be changed to 'lbfgs' in 0.22. Specify a solver to silence this warning.\n",
      "  FutureWarning)\n",
      "/Library/Frameworks/Python.framework/Versions/3.7/lib/python3.7/site-packages/sklearn/linear_model/logistic.py:469: FutureWarning: Default multi_class will be changed to 'auto' in 0.22. Specify the multi_class option to silence this warning.\n",
      "  \"this warning.\", FutureWarning)\n",
      "/Library/Frameworks/Python.framework/Versions/3.7/lib/python3.7/site-packages/sklearn/linear_model/logistic.py:432: FutureWarning: Default solver will be changed to 'lbfgs' in 0.22. Specify a solver to silence this warning.\n",
      "  FutureWarning)\n",
      "/Library/Frameworks/Python.framework/Versions/3.7/lib/python3.7/site-packages/sklearn/linear_model/logistic.py:469: FutureWarning: Default multi_class will be changed to 'auto' in 0.22. Specify the multi_class option to silence this warning.\n",
      "  \"this warning.\", FutureWarning)\n",
      "/Library/Frameworks/Python.framework/Versions/3.7/lib/python3.7/site-packages/sklearn/linear_model/logistic.py:432: FutureWarning: Default solver will be changed to 'lbfgs' in 0.22. Specify a solver to silence this warning.\n",
      "  FutureWarning)\n",
      "/Library/Frameworks/Python.framework/Versions/3.7/lib/python3.7/site-packages/sklearn/linear_model/logistic.py:469: FutureWarning: Default multi_class will be changed to 'auto' in 0.22. Specify the multi_class option to silence this warning.\n",
      "  \"this warning.\", FutureWarning)\n"
     ]
    }
   ],
   "source": [
    "from sklearn.linear_model import LogisticRegression\n",
    "from sklearn.ensemble import RandomForestClassifier\n",
    "from sklearn.naive_bayes import MultinomialNB\n",
    "from sklearn.svm import LinearSVC\n",
    "\n",
    "from sklearn.model_selection import cross_val_score\n",
    "\n",
    "\n",
    "models = [\n",
    "    RandomForestClassifier(n_estimators=200, max_depth=3, random_state=0),\n",
    "    LinearSVC(),\n",
    "    MultinomialNB(),\n",
    "    LogisticRegression(random_state=123),\n",
    "]\n",
    "\n",
    "CV = 10\n",
    "cv_df = pd.DataFrame(index=range(CV * len(models)))\n",
    "entries = []\n",
    "\n",
    "for model in models:\n",
    "    model_name = model.__class__.__name__\n",
    "    accuracies = cross_val_score(model, features, labels, scoring='accuracy', cv=CV)\n",
    "    for fold_idx, accuracy in enumerate(accuracies):\n",
    "        entries.append((model_name, fold_idx, accuracy))\n",
    "\n",
    "cv_df = pd.DataFrame(entries, columns=['model_name', 'fold_idx', 'accuracy'])"
   ]
  },
  {
   "cell_type": "code",
   "execution_count": 86,
   "metadata": {},
   "outputs": [
    {
     "data": {
      "image/png": "[encoded data removed]",
      "text/plain": [
       "<Figure size 576x360 with 1 Axes>"
      ]
     },
     "metadata": {
      "needs_background": "light"
     },
     "output_type": "display_data"
    }
   ],
   "source": [
    "# Visualize model accuracies\n",
    "import seaborn as sns\n",
    "plt.figure(figsize=(8,5))\n",
    "\n",
    "sns.boxplot(x='model_name', y='accuracy', data=cv_df)\n",
    "sns.stripplot(x='model_name', y='accuracy', data=cv_df, \n",
    "              size=8, jitter=True, edgecolor=\"gray\", linewidth=2)\n",
    "plt.show()"
   ]
  },
  {
   "cell_type": "code",
   "execution_count": 87,
   "metadata": {},
   "outputs": [
    {
     "data": {
      "text/plain": [
       "model_name\n",
       "LinearSVC                 0.330640\n",
       "LogisticRegression        0.356417\n",
       "MultinomialNB             0.348967\n",
       "RandomForestClassifier    0.310947\n",
       "Name: accuracy, dtype: float64"
      ]
     },
     "execution_count": 87,
     "metadata": {},
     "output_type": "execute_result"
    }
   ],
   "source": [
    "cv_df.groupby('model_name').accuracy.mean()"
   ]
  },
  {
   "cell_type": "markdown",
   "metadata": {},
   "source": [
    "#### MultinomialNB and Logistic Regression perform better than the other two classifiers, with LogisticRegression having a slight advantage with a median accuracy of around 35.6%.\n",
    "\n",
    "We'll continue with Logistic Regression"
   ]
  },
  {
   "cell_type": "code",
   "execution_count": 94,
   "metadata": {},
   "outputs": [
    {
     "name": "stderr",
     "output_type": "stream",
     "text": [
      "/Library/Frameworks/Python.framework/Versions/3.7/lib/python3.7/site-packages/sklearn/linear_model/logistic.py:432: FutureWarning: Default solver will be changed to 'lbfgs' in 0.22. Specify a solver to silence this warning.\n",
      "  FutureWarning)\n",
      "/Library/Frameworks/Python.framework/Versions/3.7/lib/python3.7/site-packages/sklearn/linear_model/logistic.py:469: FutureWarning: Default multi_class will be changed to 'auto' in 0.22. Specify the multi_class option to silence this warning.\n",
      "  \"this warning.\", FutureWarning)\n"
     ]
    }
   ],
   "source": [
    "from sklearn.model_selection import train_test_split\n",
    "\n",
    "model2 = LogisticRegression(random_state=123)\n",
    "\n",
    "X_train, X_test, y_train, y_test, indices_train, indices_test = train_test_split(features, labels, df.index, test_size=0.33, random_state=0)\n",
    "model2.fit(X_train, y_train)\n",
    "y_pred = model2.predict(X_test)"
   ]
  },
  {
   "cell_type": "code",
   "execution_count": 95,
   "metadata": {},
   "outputs": [
    {
     "data": {
      "image/png": "[encoded data removed]",
      "text/plain": [
       "<Figure size 576x432 with 2 Axes>"
      ]
     },
     "metadata": {
      "needs_background": "light"
     },
     "output_type": "display_data"
    }
   ],
   "source": [
    "from sklearn.metrics import confusion_matrix\n",
    "\n",
    "conf_mat = confusion_matrix(y_test, y_pred)\n",
    "fig, ax = plt.subplots(figsize=(8,6))\n",
    "sns.heatmap(conf_mat, annot=True, fmt='d',\n",
    "            xticklabels=speaker_id_df.speaker.values, yticklabels=speaker_id_df.speaker.values)\n",
    "plt.ylabel('Actual')\n",
    "plt.xlabel('Predicted')\n",
    "plt.show()"
   ]
  },
  {
   "cell_type": "code",
   "execution_count": 96,
   "metadata": {},
   "outputs": [
    {
     "name": "stderr",
     "output_type": "stream",
     "text": [
      "/Library/Frameworks/Python.framework/Versions/3.7/lib/python3.7/site-packages/sklearn/linear_model/logistic.py:432: FutureWarning: Default solver will be changed to 'lbfgs' in 0.22. Specify a solver to silence this warning.\n",
      "  FutureWarning)\n",
      "/Library/Frameworks/Python.framework/Versions/3.7/lib/python3.7/site-packages/sklearn/linear_model/logistic.py:469: FutureWarning: Default multi_class will be changed to 'auto' in 0.22. Specify the multi_class option to silence this warning.\n",
      "  \"this warning.\", FutureWarning)\n"
     ]
    },
    {
     "data": {
      "text/plain": [
       "LogisticRegression(C=1.0, class_weight=None, dual=False, fit_intercept=True,\n",
       "                   intercept_scaling=1, l1_ratio=None, max_iter=100,\n",
       "                   multi_class='warn', n_jobs=None, penalty='l2',\n",
       "                   random_state=123, solver='warn', tol=0.0001, verbose=0,\n",
       "                   warm_start=False)"
      ]
     },
     "execution_count": 96,
     "metadata": {},
     "output_type": "execute_result"
    }
   ],
   "source": [
    "model2.fit(features, labels)"
   ]
  },
  {
   "cell_type": "markdown",
   "metadata": {},
   "source": [
    "# Classification report for each class"
   ]
  },
  {
   "cell_type": "code",
   "execution_count": 97,
   "metadata": {},
   "outputs": [
    {
     "name": "stdout",
     "output_type": "stream",
     "text": [
      "              precision    recall  f1-score   support\n",
      "\n",
      "         Jim       0.37      0.51      0.43      1758\n",
      "     Michael       0.36      0.32      0.34      1506\n",
      "         Pam       0.36      0.18      0.24      1186\n",
      "      Dwight       0.40      0.56      0.47      1839\n",
      "        Andy       0.44      0.15      0.22       969\n",
      "\n",
      "    accuracy                           0.38      7258\n",
      "   macro avg       0.38      0.34      0.34      7258\n",
      "weighted avg       0.38      0.38      0.36      7258\n",
      "\n"
     ]
    }
   ],
   "source": [
    "from sklearn import metrics\n",
    "print(metrics.classification_report(y_test, y_pred, \n",
    "                                    target_names=df['speaker'].unique()))"
   ]
  },
  {
   "cell_type": "markdown",
   "metadata": {},
   "source": [
    "### Let's print out the sample so we can run them throught the model and see how they are classified"
   ]
  },
  {
   "cell_type": "code",
   "execution_count": 82,
   "metadata": {},
   "outputs": [
    {
     "data": {
      "text/html": [
       "<div>\n",
       "<style scoped>\n",
       "    .dataframe tbody tr th:only-of-type {\n",
       "        vertical-align: middle;\n",
       "    }\n",
       "\n",
       "    .dataframe tbody tr th {\n",
       "        vertical-align: top;\n",
       "    }\n",
       "\n",
       "    .dataframe thead th {\n",
       "        text-align: right;\n",
       "    }\n",
       "</style>\n",
       "<table border=\"1\" class=\"dataframe\">\n",
       "  <thead>\n",
       "    <tr style=\"text-align: right;\">\n",
       "      <th></th>\n",
       "      <th>line_text</th>\n",
       "      <th>speaker</th>\n",
       "    </tr>\n",
       "  </thead>\n",
       "  <tbody>\n",
       "    <tr>\n",
       "      <th>0</th>\n",
       "      <td>downsizing? i have no problem with that. i have been recommending downsizing since i first got here. i even brought it up in my interview. i say, bring it on.</td>\n",
       "      <td>Dwight</td>\n",
       "    </tr>\n",
       "    <tr>\n",
       "      <th>1</th>\n",
       "      <td>i knew it! more trunk space. or should i say, corpse space.</td>\n",
       "      <td>Dwight</td>\n",
       "    </tr>\n",
       "    <tr>\n",
       "      <th>2</th>\n",
       "      <td>a ceremonial bridal kidnapping. he will take the bride and hide her at a local pub and when i find the place, i have to buy everyone drinks. ah, all right! oh mose.</td>\n",
       "      <td>Dwight</td>\n",
       "    </tr>\n",
       "    <tr>\n",
       "      <th>3</th>\n",
       "      <td>no woman would ever want a man who doesn't know what an auger is.</td>\n",
       "      <td>Dwight</td>\n",
       "    </tr>\n",
       "    <tr>\n",
       "      <th>4</th>\n",
       "      <td>ooh does edgar allan poe know about that one? so sinister! that wouldn't annoy a person at all! where do you come up with this stuff?</td>\n",
       "      <td>Dwight</td>\n",
       "    </tr>\n",
       "  </tbody>\n",
       "</table>\n",
       "</div>"
      ],
      "text/plain": [
       "                                                                                                                                                              line_text  \\\n",
       "0        downsizing? i have no problem with that. i have been recommending downsizing since i first got here. i even brought it up in my interview. i say, bring it on.   \n",
       "1                                                                                                           i knew it! more trunk space. or should i say, corpse space.   \n",
       "2  a ceremonial bridal kidnapping. he will take the bride and hide her at a local pub and when i find the place, i have to buy everyone drinks. ah, all right! oh mose.   \n",
       "3                                                                                                     no woman would ever want a man who doesn't know what an auger is.   \n",
       "4                                 ooh does edgar allan poe know about that one? so sinister! that wouldn't annoy a person at all! where do you come up with this stuff?   \n",
       "\n",
       "  speaker  \n",
       "0  Dwight  \n",
       "1  Dwight  \n",
       "2  Dwight  \n",
       "3  Dwight  \n",
       "4  Dwight  "
      ]
     },
     "execution_count": 82,
     "metadata": {},
     "output_type": "execute_result"
    }
   ],
   "source": [
    "# I want to copy the full line\n",
    "pd.options.display.max_colwidth = 250\n",
    "\n",
    "samples"
   ]
  },
  {
   "cell_type": "markdown",
   "metadata": {},
   "source": [
    "# Test Dwight's sample lines"
   ]
  },
  {
   "cell_type": "code",
   "execution_count": 98,
   "metadata": {},
   "outputs": [
    {
     "name": "stdout",
     "output_type": "stream",
     "text": [
      "\"downsizing? i have no problem with that. i have been recommending downsizing since i first got here. i even brought it up in my interview. i say, bring it on.\"\n",
      "  - Predicted as: 'Dwight'\n",
      "\n",
      "\"i knew it! more trunk space. or should i say, corpse space.\"\n",
      "  - Predicted as: 'Dwight'\n",
      "\n",
      "\"a ceremonial bridal kidnapping. he will take the bride and hide her at a local pub and when i find the place, i have to buy everyone drinks. ah, all right! oh mose\"\n",
      "  - Predicted as: 'Dwight'\n",
      "\n",
      "\"no woman would ever want a man who doesnt know what an auger is.\"\n",
      "  - Predicted as: 'Michael'\n",
      "\n",
      "\"ooh does edgar allan poe know about that one? so sinister! that wouldnt annoy a person at all! where do you come up with this stuff?\"\n",
      "  - Predicted as: 'Michael'\n",
      "\n"
     ]
    }
   ],
   "source": [
    "texts = [\"downsizing? i have no problem with that. i have been recommending downsizing since i first got here. i even brought it up in my interview. i say, bring it on.\",\n",
    "        'i knew it! more trunk space. or should i say, corpse space.',\n",
    "        'a ceremonial bridal kidnapping. he will take the bride and hide her at a local pub and when i find the place, i have to buy everyone drinks. ah, all right! oh mose',\n",
    "        'no woman would ever want a man who doesnt know what an auger is.',\n",
    "        'ooh does edgar allan poe know about that one? so sinister! that wouldnt annoy a person at all! where do you come up with this stuff?']\n",
    "text_features = tfidf.transform(texts)\n",
    "predictions = model2.predict(text_features)\n",
    "for text, predicted in zip(texts, predictions):\n",
    "    print('\"{}\"'.format(text))\n",
    "    print(\"  - Predicted as: '{}'\".format(id_to_speaker[predicted]))\n",
    "    print(\"\")"
   ]
  },
  {
   "cell_type": "markdown",
   "metadata": {},
   "source": [
    "# Neural Language Text Generation Model\n",
    "\n",
    "We will develop a model of the text that we can then use to generate new sequences of Dwight lines using the txt file we create earlier."
   ]
  },
  {
   "cell_type": "code",
   "execution_count": 924,
   "metadata": {},
   "outputs": [],
   "source": [
    "from numpy import array\n",
    "from keras.preprocessing.text import Tokenizer\n",
    "from keras.utils import to_categorical\n",
    "from keras.preprocessing.sequence import pad_sequences\n",
    "from keras.utils.vis_utils import plot_model\n",
    "from keras.models import Sequential\n",
    "from keras.layers import Dense\n",
    "from keras.layers import LSTM\n",
    "from keras.layers import Embedding\n",
    "from keras.layers import Flatten\n",
    "from pickle import dump"
   ]
  },
  {
   "cell_type": "code",
   "execution_count": 925,
   "metadata": {},
   "outputs": [
    {
     "name": "stdout",
     "output_type": "stream",
     "text": [
      " shall i play for you? pa rum pump um pum  i have no gifts for you. pa rum pump um pum \n",
      "whassup!\n",
      "whassup.\n",
      "what?\n",
      "just clearing my desk. i can't concentrate.\n",
      "it's overlapping. it's all spilling over the\n"
     ]
    }
   ],
   "source": [
    "# Load doc into memory\n",
    "def load_doc(filename):\n",
    "    # open the file as read only\n",
    "    file = open(filename, 'r')\n",
    "    # read all text\n",
    "    text = file.read()\n",
    "    # close the file\n",
    "    file.close()\n",
    "    return text\n",
    "\n",
    "# Load document\n",
    "in_filename = 'dwight_only.txt'\n",
    "doc = load_doc(in_filename)\n",
    "print(doc[:200])"
   ]
  },
  {
   "cell_type": "code",
   "execution_count": 930,
   "metadata": {},
   "outputs": [],
   "source": [
    "import re\n",
    "import string\n",
    "\n",
    "# Turn a doc into clean tokens\n",
    "def clean_doc(doc):\n",
    "    # replace '--' with a space ' '\n",
    "    doc = doc.replace('--', ' ')\n",
    "    # split into tokens by white space\n",
    "    tokens = doc.split()\n",
    "    # prepare regex for char filtering\n",
    "    re_punc = re.compile('[%s]' % re.escape(string.punctuation))\n",
    "    # remove punctuation from each word\n",
    "    tokens = [re_punc.sub('', w) for w in tokens]\n",
    "    # remove remaining tokens that are not alphabetic\n",
    "    tokens = [word for word in tokens if word.isalpha()]\n",
    "    # make lower case\n",
    "    tokens = [word.lower() for word in tokens]\n",
    "    # filter out short tokens\n",
    "    tokens = [word for word in tokens if len(word) > 1]\n",
    "    return tokens"
   ]
  },
  {
   "cell_type": "code",
   "execution_count": 931,
   "metadata": {},
   "outputs": [
    {
     "name": "stdout",
     "output_type": "stream",
     "text": [
      "['the', 'ground', 'rules', 'ok', 'can', 'we', 'steer', 'away', 'from', 'gay', 'people', 'im', 'sorry', 'its', 'an', 'orientation', 'its', 'not', 'race', 'plus', 'lot', 'of', 'other', 'races', 'are', 'intolerant', 'of', 'gays', 'soparadox', 'figured', 'it', 'would', 'save', 'time', 'excuse', 'me', 'im', 'sorry', 'but', 'thats', 'not', 'all', 'it', 'takes', 'to', 'be', 'hero', 'hero', 'kills', 'people']\n",
      "Total Tokens: 77935\n",
      "Unique Tokens: 8462\n"
     ]
    }
   ],
   "source": [
    "# Clean document\n",
    "tokens = clean_doc(doc)\n",
    "print(tokens[500:550])\n",
    "print('Total Tokens: %d' % len(tokens))\n",
    "print('Unique Tokens: %d' % len(set(tokens)))\n",
    "\n",
    "# I left stopwords sop that the generated line don't sound like nonsense."
   ]
  },
  {
   "cell_type": "code",
   "execution_count": 932,
   "metadata": {},
   "outputs": [
    {
     "name": "stdout",
     "output_type": "stream",
     "text": [
      "Total Sequences: 77884\n"
     ]
    }
   ],
   "source": [
    "# Organize into sequences of tokens\n",
    "length = 50 + 1\n",
    "sequences = list()\n",
    "for i in range(length, len(tokens)):\n",
    "    # select sequence of tokens\n",
    "    seq = tokens[i-length:i]\n",
    "    # convert into a line\n",
    "    line = ' '.join(seq)\n",
    "    # store\n",
    "    sequences.append(line)\n",
    "print('Total Sequences: %d' % len(sequences))"
   ]
  },
  {
   "cell_type": "code",
   "execution_count": 933,
   "metadata": {},
   "outputs": [],
   "source": [
    "# Save tokens to file, one dialog per line\n",
    "def save_doc(lines, filename):\n",
    "    data = '\\n'.join(lines)\n",
    "    file = open(filename, 'w')\n",
    "    file.write(data)\n",
    "    file.close()"
   ]
  },
  {
   "cell_type": "code",
   "execution_count": 934,
   "metadata": {},
   "outputs": [],
   "source": [
    "# Save sequences to file\n",
    "out_filename = 'dwight_sequences.txt'\n",
    "save_doc(sequences, out_filename)"
   ]
  },
  {
   "cell_type": "markdown",
   "metadata": {},
   "source": [
    "# Time to train the language model\n",
    "\n",
    "It has a few unique characteristics:\n",
    "\n",
    "- It uses a distributed representation for words so that different words with similar meanings will have a similar representation.\n",
    "- It learns the representation at the same time as learning the model.\n",
    "- It learns to predict the probability for the next word using the context of the last 100 words."
   ]
  },
  {
   "cell_type": "markdown",
   "metadata": {},
   "source": [
    "# Load Sequences"
   ]
  },
  {
   "cell_type": "code",
   "execution_count": 936,
   "metadata": {},
   "outputs": [],
   "source": [
    "# Load doc into memory\n",
    "def load_doc(filename):\n",
    "    # open the file as read only\n",
    "    file = open(filename, 'r')\n",
    "    # read all text\n",
    "    text = file.read()\n",
    "    # close the file\n",
    "    file.close()\n",
    "    return text\n",
    "\n",
    "# Load in sequence file\n",
    "in_filename = 'dwight_sequences.txt'\n",
    "doc = load_doc(in_filename)\n",
    "lines = doc.split('\\n')"
   ]
  },
  {
   "cell_type": "markdown",
   "metadata": {},
   "source": [
    "# Encode Sequences\n",
    "\n",
    "The Tokenizer will be trained on the entire training dataset, which means it finds all of the unique words in the data and assigns each a unique integer. We can then use the fit Tokenizer to encode all of the training sequences, converting each sequence from a list of wordsto a list of integers."
   ]
  },
  {
   "cell_type": "code",
   "execution_count": 937,
   "metadata": {},
   "outputs": [],
   "source": [
    "# Integer encode sequences of words\n",
    "tokenizer = Tokenizer()\n",
    "tokenizer.fit_on_texts(lines)\n",
    "sequences = tokenizer.texts_to_sequences(lines)"
   ]
  },
  {
   "cell_type": "code",
   "execution_count": 938,
   "metadata": {},
   "outputs": [],
   "source": [
    "# Vocabulary size\n",
    "vocab_size = len(tokenizer.word_index) + 1"
   ]
  },
  {
   "cell_type": "markdown",
   "metadata": {},
   "source": [
    "# Sequence Inputs and Output\n",
    "\n",
    "Now that we have encoded the input sequences, we need to separate them into input (X) and output (y) elements.\n",
    "\n",
    "After separating, we need to one hot encode the output word."
   ]
  },
  {
   "cell_type": "code",
   "execution_count": 939,
   "metadata": {},
   "outputs": [],
   "source": [
    "# Separate into input and output\n",
    "sequences = array(sequences)\n",
    "X, y = sequences[:,:-1], sequences[:,-1]\n",
    "y = to_categorical(y, num_classes=vocab_size)\n",
    "seq_length = X.shape[1]"
   ]
  },
  {
   "cell_type": "markdown",
   "metadata": {},
   "source": [
    "# Fit model"
   ]
  },
  {
   "cell_type": "code",
   "execution_count": 942,
   "metadata": {},
   "outputs": [],
   "source": [
    "# Define the LSTM model\n",
    "def define_model(vocab_size, seq_length):\n",
    "    model = Sequential()\n",
    "    model.add(Embedding(vocab_size, 50, input_length=seq_length))\n",
    "    model.add(LSTM(200, return_sequences=True))\n",
    "    model.add(LSTM(200))\n",
    "    model.add(Dense(100, activation='relu'))\n",
    "    model.add(Dense(vocab_size, activation='softmax'))\n",
    "    # compile network\n",
    "    model.compile(loss='categorical_crossentropy', optimizer='adam', metrics=['accuracy'])\n",
    "    # summarize defined model\n",
    "    model.summary()\n",
    "    return model"
   ]
  },
  {
   "cell_type": "code",
   "execution_count": 944,
   "metadata": {},
   "outputs": [
    {
     "name": "stdout",
     "output_type": "stream",
     "text": [
      "Model: \"sequential_34\"\n",
      "_________________________________________________________________\n",
      "Layer (type)                 Output Shape              Param #   \n",
      "=================================================================\n",
      "embedding_29 (Embedding)     (None, 50, 50)            423150    \n",
      "_________________________________________________________________\n",
      "lstm_50 (LSTM)               (None, 50, 200)           200800    \n",
      "_________________________________________________________________\n",
      "lstm_51 (LSTM)               (None, 200)               320800    \n",
      "_________________________________________________________________\n",
      "dense_42 (Dense)             (None, 100)               20100     \n",
      "_________________________________________________________________\n",
      "dense_43 (Dense)             (None, 8463)              854763    \n",
      "=================================================================\n",
      "Total params: 1,819,613\n",
      "Trainable params: 1,819,613\n",
      "Non-trainable params: 0\n",
      "_________________________________________________________________\n"
     ]
    },
    {
     "name": "stderr",
     "output_type": "stream",
     "text": [
      "/Library/Frameworks/Python.framework/Versions/3.7/lib/python3.7/site-packages/tensorflow_core/python/framework/indexed_slices.py:424: UserWarning:\n",
      "\n",
      "Converting sparse IndexedSlices to a dense Tensor of unknown shape. This may consume a large amount of memory.\n",
      "\n"
     ]
    },
    {
     "name": "stdout",
     "output_type": "stream",
     "text": [
      "Epoch 1/100\n",
      "77884/77884 [==============================] - 227s 3ms/step - loss: 6.9878 - accuracy: 0.0333\n",
      "Epoch 2/100\n",
      "77884/77884 [==============================] - 239s 3ms/step - loss: 6.6580 - accuracy: 0.0409\n",
      "Epoch 3/100\n",
      "77884/77884 [==============================] - 280s 4ms/step - loss: 6.5077 - accuracy: 0.0459\n",
      "Epoch 4/100\n",
      "77884/77884 [==============================] - 279s 4ms/step - loss: 6.3628 - accuracy: 0.0554\n",
      "Epoch 5/100\n",
      "77884/77884 [==============================] - 276s 4ms/step - loss: 6.1988 - accuracy: 0.0687\n",
      "Epoch 6/100\n",
      "77884/77884 [==============================] - 274s 4ms/step - loss: 6.0688 - accuracy: 0.0763\n",
      "Epoch 7/100\n",
      "77884/77884 [==============================] - 275s 4ms/step - loss: 5.9519 - accuracy: 0.0825\n",
      "Epoch 8/100\n",
      "77884/77884 [==============================] - 274s 4ms/step - loss: 5.8664 - accuracy: 0.0881\n",
      "Epoch 9/100\n",
      "77884/77884 [==============================] - 247s 3ms/step - loss: 5.7799 - accuracy: 0.0929\n",
      "Epoch 10/100\n",
      "77884/77884 [==============================] - 218s 3ms/step - loss: 5.6999 - accuracy: 0.0964\n",
      "Epoch 11/100\n",
      "77884/77884 [==============================] - 218s 3ms/step - loss: 5.6066 - accuracy: 0.1026\n",
      "Epoch 12/100\n",
      "77884/77884 [==============================] - 211s 3ms/step - loss: 5.5123 - accuracy: 0.1060\n",
      "Epoch 13/100\n",
      "77884/77884 [==============================] - 215s 3ms/step - loss: 5.4171 - accuracy: 0.1101\n",
      "Epoch 14/100\n",
      "77884/77884 [==============================] - 236s 3ms/step - loss: 5.3260 - accuracy: 0.1133\n",
      "Epoch 15/100\n",
      "77884/77884 [==============================] - 234s 3ms/step - loss: 5.2334 - accuracy: 0.1171\n",
      "Epoch 16/100\n",
      "77884/77884 [==============================] - 237s 3ms/step - loss: 5.1416 - accuracy: 0.1218\n",
      "Epoch 17/100\n",
      "77884/77884 [==============================] - 229s 3ms/step - loss: 5.0525 - accuracy: 0.1247\n",
      "Epoch 18/100\n",
      "77884/77884 [==============================] - 226s 3ms/step - loss: 4.9588 - accuracy: 0.1290\n",
      "Epoch 19/100\n",
      "77884/77884 [==============================] - 220s 3ms/step - loss: 4.8667 - accuracy: 0.1330\n",
      "Epoch 20/100\n",
      "77884/77884 [==============================] - 221s 3ms/step - loss: 4.7778 - accuracy: 0.1381\n",
      "Epoch 21/100\n",
      "77884/77884 [==============================] - 221s 3ms/step - loss: 4.6906 - accuracy: 0.1430\n",
      "Epoch 22/100\n",
      "77884/77884 [==============================] - 220s 3ms/step - loss: 4.6021 - accuracy: 0.1494\n",
      "Epoch 23/100\n",
      "77884/77884 [==============================] - 221s 3ms/step - loss: 4.5173 - accuracy: 0.1560\n",
      "Epoch 24/100\n",
      "77884/77884 [==============================] - 227s 3ms/step - loss: 4.4343 - accuracy: 0.1631\n",
      "Epoch 25/100\n",
      "77884/77884 [==============================] - 219s 3ms/step - loss: 4.3521 - accuracy: 0.1703\n",
      "Epoch 26/100\n",
      "77884/77884 [==============================] - 228s 3ms/step - loss: 4.2736 - accuracy: 0.1782\n",
      "Epoch 27/100\n",
      "77884/77884 [==============================] - 223s 3ms/step - loss: 4.1906 - accuracy: 0.1877\n",
      "Epoch 28/100\n",
      "77884/77884 [==============================] - 227s 3ms/step - loss: 4.1190 - accuracy: 0.1951\n",
      "Epoch 29/100\n",
      "77884/77884 [==============================] - 230s 3ms/step - loss: 4.2842 - accuracy: 0.1893\n",
      "Epoch 30/100\n",
      "77884/77884 [==============================] - 225s 3ms/step - loss: 4.6089 - accuracy: 0.1631\n",
      "Epoch 31/100\n",
      "77884/77884 [==============================] - 220s 3ms/step - loss: 4.3015 - accuracy: 0.1861\n",
      "Epoch 32/100\n",
      "77884/77884 [==============================] - 245s 3ms/step - loss: 4.0941 - accuracy: 0.2034\n",
      "Epoch 33/100\n",
      "77884/77884 [==============================] - 251s 3ms/step - loss: 3.9421 - accuracy: 0.2193\n",
      "Epoch 34/100\n",
      "77884/77884 [==============================] - 267s 3ms/step - loss: 3.8765 - accuracy: 0.2289\n",
      "Epoch 35/100\n",
      "77884/77884 [==============================] - 277s 4ms/step - loss: 4.0230 - accuracy: 0.2170\n",
      "Epoch 36/100\n",
      "77884/77884 [==============================] - 292s 4ms/step - loss: 3.9808 - accuracy: 0.2219\n",
      "Epoch 37/100\n",
      "77884/77884 [==============================] - 280s 4ms/step - loss: 3.9452 - accuracy: 0.2270\n",
      "Epoch 38/100\n",
      "77884/77884 [==============================] - 288s 4ms/step - loss: 3.8950 - accuracy: 0.2335\n",
      "Epoch 39/100\n",
      "77884/77884 [==============================] - 286s 4ms/step - loss: 3.8725 - accuracy: 0.2356\n",
      "Epoch 40/100\n",
      "77884/77884 [==============================] - 221s 3ms/step - loss: 3.8078 - accuracy: 0.2435\n",
      "Epoch 41/100\n",
      "77884/77884 [==============================] - 243s 3ms/step - loss: 3.6961 - accuracy: 0.2552\n",
      "Epoch 42/100\n",
      "77884/77884 [==============================] - 219s 3ms/step - loss: 3.6033 - accuracy: 0.2688\n",
      "Epoch 43/100\n",
      "77884/77884 [==============================] - 222s 3ms/step - loss: 3.5183 - accuracy: 0.2806\n",
      "Epoch 44/100\n",
      "77884/77884 [==============================] - 218s 3ms/step - loss: 3.5584 - accuracy: 0.2772\n",
      "Epoch 45/100\n",
      "77884/77884 [==============================] - 229s 3ms/step - loss: 3.5054 - accuracy: 0.2843\n",
      "Epoch 46/100\n",
      "77884/77884 [==============================] - 227s 3ms/step - loss: 3.4514 - accuracy: 0.2920\n",
      "Epoch 47/100\n",
      "77884/77884 [==============================] - 225s 3ms/step - loss: 3.3712 - accuracy: 0.3043\n",
      "Epoch 48/100\n",
      "77884/77884 [==============================] - 222s 3ms/step - loss: 3.3150 - accuracy: 0.3124\n",
      "Epoch 49/100\n",
      "77884/77884 [==============================] - 222s 3ms/step - loss: 3.2955 - accuracy: 0.3172\n",
      "Epoch 50/100\n",
      "77884/77884 [==============================] - 228s 3ms/step - loss: 3.1965 - accuracy: 0.3311\n",
      "Epoch 51/100\n",
      "77884/77884 [==============================] - 221s 3ms/step - loss: 3.1310 - accuracy: 0.3411\n",
      "Epoch 52/100\n",
      "77884/77884 [==============================] - 222s 3ms/step - loss: 3.0638 - accuracy: 0.3498\n",
      "Epoch 53/100\n",
      "77884/77884 [==============================] - 231s 3ms/step - loss: 3.0021 - accuracy: 0.3610\n",
      "Epoch 54/100\n",
      "77884/77884 [==============================] - 223s 3ms/step - loss: 2.9602 - accuracy: 0.3678\n",
      "Epoch 55/100\n",
      "77884/77884 [==============================] - 232s 3ms/step - loss: 2.8962 - accuracy: 0.3793\n",
      "Epoch 56/100\n",
      "77884/77884 [==============================] - 219s 3ms/step - loss: 2.9262 - accuracy: 0.3783\n",
      "Epoch 57/100\n",
      "77884/77884 [==============================] - 218s 3ms/step - loss: 2.8460 - accuracy: 0.3887\n",
      "Epoch 58/100\n",
      "77884/77884 [==============================] - 218s 3ms/step - loss: 2.7610 - accuracy: 0.4036\n",
      "Epoch 59/100\n",
      "77884/77884 [==============================] - 218s 3ms/step - loss: 2.7321 - accuracy: 0.4096\n",
      "Epoch 60/100\n",
      "77884/77884 [==============================] - 217s 3ms/step - loss: 2.7347 - accuracy: 0.4092\n",
      "Epoch 61/100\n",
      "77884/77884 [==============================] - 214s 3ms/step - loss: 2.6651 - accuracy: 0.4224\n",
      "Epoch 62/100\n",
      "77884/77884 [==============================] - 215s 3ms/step - loss: 2.6423 - accuracy: 0.4253\n",
      "Epoch 63/100\n",
      "77884/77884 [==============================] - 217s 3ms/step - loss: 2.6584 - accuracy: 0.4259\n",
      "Epoch 64/100\n",
      "77884/77884 [==============================] - 216s 3ms/step - loss: 2.5947 - accuracy: 0.4348\n",
      "Epoch 65/100\n",
      "77884/77884 [==============================] - 217s 3ms/step - loss: 2.5689 - accuracy: 0.4410\n",
      "Epoch 66/100\n",
      "77884/77884 [==============================] - 216s 3ms/step - loss: 2.4469 - accuracy: 0.4638\n",
      "Epoch 67/100\n",
      "77884/77884 [==============================] - 218s 3ms/step - loss: 2.3593 - accuracy: 0.4761\n",
      "Epoch 68/100\n",
      "77884/77884 [==============================] - 217s 3ms/step - loss: 2.3094 - accuracy: 0.4871\n",
      "Epoch 69/100\n",
      "77884/77884 [==============================] - 221s 3ms/step - loss: 2.2746 - accuracy: 0.4928\n",
      "Epoch 70/100\n",
      "77884/77884 [==============================] - 225s 3ms/step - loss: 2.2382 - accuracy: 0.4959\n",
      "Epoch 71/100\n",
      "77884/77884 [==============================] - 219s 3ms/step - loss: 2.2055 - accuracy: 0.5050\n",
      "Epoch 72/100\n",
      "77884/77884 [==============================] - 217s 3ms/step - loss: 2.1864 - accuracy: 0.5092\n",
      "Epoch 73/100\n",
      "77884/77884 [==============================] - 217s 3ms/step - loss: 2.1679 - accuracy: 0.5143\n",
      "Epoch 74/100\n",
      "77884/77884 [==============================] - 217s 3ms/step - loss: 2.1151 - accuracy: 0.5210\n",
      "Epoch 75/100\n",
      "77884/77884 [==============================] - 215s 3ms/step - loss: 2.0432 - accuracy: 0.5334\n",
      "Epoch 76/100\n",
      "77884/77884 [==============================] - 214s 3ms/step - loss: 2.0030 - accuracy: 0.5410\n",
      "Epoch 77/100\n",
      "77884/77884 [==============================] - 214s 3ms/step - loss: 1.9920 - accuracy: 0.5457\n",
      "Epoch 78/100\n",
      "77884/77884 [==============================] - 214s 3ms/step - loss: 2.0149 - accuracy: 0.5483\n",
      "Epoch 79/100\n",
      "77884/77884 [==============================] - 214s 3ms/step - loss: 2.0094 - accuracy: 0.5468\n",
      "Epoch 80/100\n",
      "77884/77884 [==============================] - 215s 3ms/step - loss: 1.8967 - accuracy: 0.5660\n",
      "Epoch 81/100\n",
      "77884/77884 [==============================] - 216s 3ms/step - loss: 1.9194 - accuracy: 0.5666\n",
      "Epoch 82/100\n",
      "77884/77884 [==============================] - 216s 3ms/step - loss: 2.1366 - accuracy: 0.5416\n",
      "Epoch 83/100\n",
      "77884/77884 [==============================] - 215s 3ms/step - loss: 2.0648 - accuracy: 0.5511\n",
      "Epoch 84/100\n",
      "77884/77884 [==============================] - 216s 3ms/step - loss: 2.1575 - accuracy: 0.5407\n",
      "Epoch 85/100\n",
      "77884/77884 [==============================] - 218s 3ms/step - loss: 1.9565 - accuracy: 0.5662\n",
      "Epoch 86/100\n",
      "77884/77884 [==============================] - 217s 3ms/step - loss: 1.8641 - accuracy: 0.5813\n",
      "Epoch 87/100\n",
      "77884/77884 [==============================] - 217s 3ms/step - loss: 1.8209 - accuracy: 0.5886\n",
      "Epoch 88/100\n",
      "77884/77884 [==============================] - 217s 3ms/step - loss: 1.7315 - accuracy: 0.6022\n",
      "Epoch 89/100\n",
      "77884/77884 [==============================] - 278s 4ms/step - loss: 1.7013 - accuracy: 0.6080\n",
      "Epoch 90/100\n",
      "77884/77884 [==============================] - 420s 5ms/step - loss: 1.7494 - accuracy: 0.5996\n",
      "Epoch 91/100\n",
      "77884/77884 [==============================] - 347s 4ms/step - loss: 1.7983 - accuracy: 0.5982\n",
      "Epoch 92/100\n",
      "77884/77884 [==============================] - 307s 4ms/step - loss: 1.7840 - accuracy: 0.5994\n",
      "Epoch 93/100\n",
      "77884/77884 [==============================] - 237s 3ms/step - loss: 1.6316 - accuracy: 0.6240\n",
      "Epoch 94/100\n",
      "77884/77884 [==============================] - 230s 3ms/step - loss: 1.5636 - accuracy: 0.6351\n",
      "Epoch 95/100\n",
      "77884/77884 [==============================] - 227s 3ms/step - loss: 1.5217 - accuracy: 0.6427\n",
      "Epoch 96/100\n",
      "77884/77884 [==============================] - 225s 3ms/step - loss: 1.4878 - accuracy: 0.6474\n",
      "Epoch 97/100\n",
      "77884/77884 [==============================] - 224s 3ms/step - loss: 1.4965 - accuracy: 0.6434\n",
      "Epoch 98/100\n",
      "77884/77884 [==============================] - 227s 3ms/step - loss: 1.4169 - accuracy: 0.6646\n",
      "Epoch 99/100\n",
      "77884/77884 [==============================] - 225s 3ms/step - loss: 1.4714 - accuracy: 0.6586\n",
      "Epoch 100/100\n",
      "77884/77884 [==============================] - 224s 3ms/step - loss: 1.3953 - accuracy: 0.6762\n"
     ]
    },
    {
     "data": {
      "text/plain": [
       "<keras.callbacks.callbacks.History at 0x1a1b64d30>"
      ]
     },
     "execution_count": 944,
     "metadata": {},
     "output_type": "execute_result"
    }
   ],
   "source": [
    "# Define model\n",
    "model = define_model(vocab_size, seq_length)\n",
    "# Fit model\n",
    "model.fit(X, y, batch_size=120, epochs=100)\n",
    "# Save the model to file\n",
    "model.save('model.h5')\n",
    "# Save the tokenizer\n",
    "dump(tokenizer, open('tokenizer.pkl', 'wb'))"
   ]
  },
  {
   "cell_type": "markdown",
   "metadata": {},
   "source": [
    "# Time to generate some Dwight lines"
   ]
  },
  {
   "cell_type": "code",
   "execution_count": 945,
   "metadata": {},
   "outputs": [
    {
     "name": "stderr",
     "output_type": "stream",
     "text": [
      "/Library/Frameworks/Python.framework/Versions/3.7/lib/python3.7/site-packages/tensorflow_core/python/framework/indexed_slices.py:424: UserWarning:\n",
      "\n",
      "Converting sparse IndexedSlices to a dense Tensor of unknown shape. This may consume a large amount of memory.\n",
      "\n"
     ]
    }
   ],
   "source": [
    "from random import randint\n",
    "from pickle import load\n",
    "from keras.models import load_model\n",
    "from keras.preprocessing.sequence import pad_sequences\n",
    "\n",
    "# Load doc into memory\n",
    "def load_doc(filename):\n",
    "    # open the file as read only\n",
    "    file = open(filename, 'r')\n",
    "    # read all text\n",
    "    text = file.read()\n",
    "    # close the file\n",
    "    file.close()\n",
    "    return text\n",
    "\n",
    "# Generate a sequence from a language model\n",
    "def generate_seq(model, tokenizer, seq_length, seed_text, n_words):\n",
    "    result = list()\n",
    "    in_text = seed_text\n",
    "    # generate a fixed number of words\n",
    "    for _ in range(n_words):\n",
    "        # encode the text as integer\n",
    "        encoded = tokenizer.texts_to_sequences([in_text])[0]\n",
    "        # truncate sequences to a fixed length\n",
    "        encoded = pad_sequences([encoded], maxlen=seq_length, truncating='pre')\n",
    "        # predict probabilities for each word\n",
    "        yhat = model.predict_classes(encoded, verbose=0)\n",
    "        # map predicted word index to word\n",
    "        out_word = ''\n",
    "        for word, index in tokenizer.word_index.items():\n",
    "            if index == yhat:\n",
    "                out_word = word\n",
    "                break\n",
    "        # append to input\n",
    "        in_text += ' ' + out_word\n",
    "        result.append(out_word)\n",
    "    return ' '.join(result)\n",
    "\n",
    "# Load cleaned text sequences\n",
    "in_filename = 'dwight_sequences.txt'\n",
    "doc = load_doc(in_filename)\n",
    "lines = doc.split('\\n')\n",
    "seq_length = len(lines[0].split()) - 1\n",
    "\n",
    "# Load the model\n",
    "model = load_model('model.h5')\n",
    "\n",
    "# Load the tokenizer\n",
    "tokenizer = load(open('tokenizer.pkl', 'rb'))"
   ]
  },
  {
   "cell_type": "markdown",
   "metadata": {},
   "source": [
    "# Generate text\n",
    "\n",
    "Let's generate some lines at various word counts to run thorough the multi-class text classifier and see if they are predicted as being from Dwight."
   ]
  },
  {
   "cell_type": "code",
   "execution_count": 946,
   "metadata": {},
   "outputs": [
    {
     "name": "stdout",
     "output_type": "stream",
     "text": [
      "know how wrong free files we are forget your head\n",
      "\n",
      "dreams im gonna stay cant be several paranoid destroyed life one also contains one is dead one jump or the\n",
      "\n",
      "major blood fungus for the trash moses freezer lords were witness but it later like company okay no no it is my idea ill take\n",
      "\n",
      "then dont acknowledge your pulse cakes of stupid to working around pen mm then im going to go the law song okay no canine mccarthy richard nixon matrix oop blasend\n",
      "\n",
      "will perspire unfortunately spoke to oscar on the southeast to unless it once goes off the window and you never know that im going to do something ready for the battle of schrute farms yeah yes is it gabe got\n",
      "\n",
      "ja me to the ground and he scott is so cool about this check it up to the hospital whats to pay and im not answering it is year part of the back best interesting bags id see what it was your aunt low ryan is that started paper in\n",
      "\n"
     ]
    }
   ],
   "source": [
    "# Select a seed text\n",
    "seed_text = lines[randint(0,len(lines))]\n",
    "\n",
    "# Generate new text\n",
    "generated = generate_seq(model, tokenizer, seq_length, seed_text, 10)\n",
    "print(generated + '\\n')\n",
    "\n",
    "# 2\n",
    "seed_text = lines[randint(0,len(lines))]\n",
    "generated = generate_seq(model, tokenizer, seq_length, seed_text, 20)\n",
    "print(generated + '\\n')\n",
    "\n",
    "# 3\n",
    "seed_text = lines[randint(0,len(lines))]\n",
    "generated = generate_seq(model, tokenizer, seq_length, seed_text, 25)\n",
    "print(generated + '\\n')\n",
    "\n",
    "# 4\n",
    "seed_text = lines[randint(0,len(lines))]\n",
    "generated = generate_seq(model, tokenizer, seq_length, seed_text, 30)\n",
    "print(generated + '\\n')\n",
    "\n",
    "# 5\n",
    "seed_text = lines[randint(0,len(lines))]\n",
    "generated = generate_seq(model, tokenizer, seq_length, seed_text, 40)\n",
    "print(generated + '\\n')\n",
    "\n",
    "# 6\n",
    "seed_text = lines[randint(0,len(lines))]\n",
    "generated = generate_seq(model, tokenizer, seq_length, seed_text, 50)\n",
    "print(generated + '\\n')"
   ]
  },
  {
   "cell_type": "markdown",
   "metadata": {},
   "source": [
    "Granted, the generated lines turned out sounding a bit like nonsense. But, it's a start!"
   ]
  },
  {
   "cell_type": "markdown",
   "metadata": {},
   "source": [
    "# Test generated Dwight lines\n",
    "\n",
    "We will run the generated lines through the multi-class text classifier and analyze of they are predicted to be Dwight.\n",
    "\n",
    "This will give us a good idea if we are able to capture the essence of Dwight for a future work in the developement of our Twitter chatbot."
   ]
  },
  {
   "cell_type": "code",
   "execution_count": 84,
   "metadata": {},
   "outputs": [
    {
     "name": "stdout",
     "output_type": "stream",
     "text": [
      "\"know how wrong free files we are forget your head\"\n",
      "  - Predicted as: 'Michael'\n",
      "\n",
      "\"dreams im gonna stay cant be several paranoid destroyed life one also contains one is dead one jump or the\"\n",
      "  - Predicted as: 'Dwight'\n",
      "\n",
      "\"major blood fungus for the trash moses freezer lords were witness but it later like company okay no no it is my idea ill take\"\n",
      "  - Predicted as: 'Dwight'\n",
      "\n",
      "\"then dont acknowledge your pulse cakes of stupid to working around pen mm then im going to go the law song okay no canine mccarthy richard nixon matrix oop blasend\"\n",
      "  - Predicted as: 'Dwight'\n",
      "\n",
      "\"will perspire unfortunately spoke to oscar on the southeast to unless it once goes off the window and you never know that im going to do something ready for the battle of schrute farms yeah yes is it gabe got\"\n",
      "  - Predicted as: 'Dwight'\n",
      "\n",
      "\"ja me to the ground and he scott is so cool about this check it up to the hospital whats to pay and im not answering it is year part of the back best interesting bags id see what it was your aunt low ryan is that started paper in\"\n",
      "  - Predicted as: 'Michael'\n",
      "\n"
     ]
    }
   ],
   "source": [
    "texts = ['know how wrong free files we are forget your head', \n",
    "          'dreams im gonna stay cant be several paranoid destroyed life one also contains one is dead one jump or the',\n",
    "          'major blood fungus for the trash moses freezer lords were witness but it later like company okay no no it is my idea ill take',\n",
    "          'then dont acknowledge your pulse cakes of stupid to working around pen mm then im going to go the law song okay no canine mccarthy richard nixon matrix oop blasend',\n",
    "          'will perspire unfortunately spoke to oscar on the southeast to unless it once goes off the window and you never know that im going to do something ready for the battle of schrute farms yeah yes is it gabe got',\n",
    "          'ja me to the ground and he scott is so cool about this check it up to the hospital whats to pay and im not answering it is year part of the back best interesting bags id see what it was your aunt low ryan is that started paper in']\n",
    "text_features = tfidf.transform(texts)\n",
    "predictions = model2.predict(text_features)\n",
    "for text, predicted in zip(texts, predictions):\n",
    "    print('\"{}\"'.format(text))\n",
    "    print(\"  - Predicted as: '{}'\".format(id_to_speaker[predicted]))\n",
    "    print(\"\")"
   ]
  },
  {
   "cell_type": "markdown",
   "metadata": {},
   "source": [
    "Hey! 4 of 6 lines were predicted to be Dwight! Not bad."
   ]
  },
  {
   "cell_type": "markdown",
   "metadata": {},
   "source": [
    "# Conclusion\n",
    "\n",
    "I believe a strong starting point for the developement of this personified chatbot was established. There was a sense of Dwight that was being picked up in the generated line.\n",
    "\n",
    "There's a lot of work ahead in making this a responding chatbot, but I'm encourage from the results thus far."
   ]
  },
  {
   "cell_type": "markdown",
   "metadata": {},
   "source": [
    "# Future work\n",
    "\n",
    "- Further model tuning until sentences become further personified and more readable.\n",
    "    - (Train the model on the Dwight lines and the entire English language.)\n",
    "    - (Tune the parameters of the LSTM.)\n",
    "- Develope chatbot that uses current deep learning model to generate automated, Dwight-like responses.\n",
    "- Incorporate chatbot to a responding Twitter account that can be communicated with automatically."
   ]
  },
  {
   "cell_type": "code",
   "execution_count": null,
   "metadata": {},
   "outputs": [],
   "source": []
  }
 ],
 "metadata": {
  "kernelspec": {
   "display_name": "'Python Interactive'",
   "language": "python",
   "name": "ec5171af-50f9-4022-b579-9605273787da"
  },
  "language_info": {
   "codemirror_mode": {
    "name": "ipython",
    "version": 3
   },
   "file_extension": ".py",
   "mimetype": "text/x-python",
   "name": "python",
   "nbconvert_exporter": "python",
   "pygments_lexer": "ipython3",
   "version": "3.7.2"
  }
 },
 "nbformat": 4,
 "nbformat_minor": 2
}
